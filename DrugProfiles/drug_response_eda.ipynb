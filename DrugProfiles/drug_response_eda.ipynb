{
 "cells": [
  {
   "cell_type": "code",
   "execution_count": 1,
   "metadata": {},
   "outputs": [],
   "source": [
    "import numpy as np\n",
    "import pandas as pd\n",
    "import seaborn as sns\n",
    "import matplotlib.pyplot as plt\n"
   ]
  },
  {
   "cell_type": "code",
   "execution_count": 2,
   "metadata": {},
   "outputs": [],
   "source": [
    "dose_response_df = pd.read_csv('../data/v17.3_fitted_dose_response.csv', index_col='IC50_RESULTS_ID')"
   ]
  },
  {
   "cell_type": "code",
   "execution_count": 3,
   "metadata": {},
   "outputs": [
    {
     "data": {
      "text/html": [
       "<div>\n",
       "<style scoped>\n",
       "    .dataframe tbody tr th:only-of-type {\n",
       "        vertical-align: middle;\n",
       "    }\n",
       "\n",
       "    .dataframe tbody tr th {\n",
       "        vertical-align: top;\n",
       "    }\n",
       "\n",
       "    .dataframe thead th {\n",
       "        text-align: right;\n",
       "    }\n",
       "</style>\n",
       "<table border=\"1\" class=\"dataframe\">\n",
       "  <thead>\n",
       "    <tr style=\"text-align: right;\">\n",
       "      <th></th>\n",
       "      <th>DATASET_VERSION</th>\n",
       "      <th>COSMIC_ID</th>\n",
       "      <th>CELL_LINE_NAME</th>\n",
       "      <th>DRUG_ID</th>\n",
       "      <th>DRUG_NAME</th>\n",
       "      <th>PUTATIVE_TARGET</th>\n",
       "      <th>MAX_CONC_MICROMOLAR</th>\n",
       "      <th>MIN_CONC_MICROMOLAR</th>\n",
       "      <th>LN_IC50</th>\n",
       "      <th>AUC</th>\n",
       "      <th>RMSE</th>\n",
       "      <th>Z_SCORE</th>\n",
       "    </tr>\n",
       "    <tr>\n",
       "      <th>IC50_RESULTS_ID</th>\n",
       "      <th></th>\n",
       "      <th></th>\n",
       "      <th></th>\n",
       "      <th></th>\n",
       "      <th></th>\n",
       "      <th></th>\n",
       "      <th></th>\n",
       "      <th></th>\n",
       "      <th></th>\n",
       "      <th></th>\n",
       "      <th></th>\n",
       "      <th></th>\n",
       "    </tr>\n",
       "  </thead>\n",
       "  <tbody>\n",
       "    <tr>\n",
       "      <th>1</th>\n",
       "      <td>17.3</td>\n",
       "      <td>683665</td>\n",
       "      <td>MC-CAR</td>\n",
       "      <td>1</td>\n",
       "      <td>Erlotinib</td>\n",
       "      <td>EGFR</td>\n",
       "      <td>2.0</td>\n",
       "      <td>0.007812</td>\n",
       "      <td>2.453524</td>\n",
       "      <td>0.982610</td>\n",
       "      <td>0.021678</td>\n",
       "      <td>-0.015505</td>\n",
       "    </tr>\n",
       "    <tr>\n",
       "      <th>1482</th>\n",
       "      <td>17.3</td>\n",
       "      <td>684055</td>\n",
       "      <td>ES3</td>\n",
       "      <td>1</td>\n",
       "      <td>Erlotinib</td>\n",
       "      <td>EGFR</td>\n",
       "      <td>2.0</td>\n",
       "      <td>0.007812</td>\n",
       "      <td>3.376592</td>\n",
       "      <td>0.985169</td>\n",
       "      <td>0.029915</td>\n",
       "      <td>0.779999</td>\n",
       "    </tr>\n",
       "    <tr>\n",
       "      <th>1791</th>\n",
       "      <td>17.3</td>\n",
       "      <td>684057</td>\n",
       "      <td>ES5</td>\n",
       "      <td>1</td>\n",
       "      <td>Erlotinib</td>\n",
       "      <td>EGFR</td>\n",
       "      <td>2.0</td>\n",
       "      <td>0.007812</td>\n",
       "      <td>3.614664</td>\n",
       "      <td>0.983207</td>\n",
       "      <td>0.031201</td>\n",
       "      <td>0.985170</td>\n",
       "    </tr>\n",
       "    <tr>\n",
       "      <th>2177</th>\n",
       "      <td>17.3</td>\n",
       "      <td>684059</td>\n",
       "      <td>ES7</td>\n",
       "      <td>1</td>\n",
       "      <td>Erlotinib</td>\n",
       "      <td>EGFR</td>\n",
       "      <td>2.0</td>\n",
       "      <td>0.007812</td>\n",
       "      <td>3.223394</td>\n",
       "      <td>0.984574</td>\n",
       "      <td>0.093857</td>\n",
       "      <td>0.647971</td>\n",
       "    </tr>\n",
       "    <tr>\n",
       "      <th>2754</th>\n",
       "      <td>17.3</td>\n",
       "      <td>684062</td>\n",
       "      <td>EW-11</td>\n",
       "      <td>1</td>\n",
       "      <td>Erlotinib</td>\n",
       "      <td>EGFR</td>\n",
       "      <td>2.0</td>\n",
       "      <td>0.007812</td>\n",
       "      <td>2.486405</td>\n",
       "      <td>0.946034</td>\n",
       "      <td>0.087280</td>\n",
       "      <td>0.012832</td>\n",
       "    </tr>\n",
       "  </tbody>\n",
       "</table>\n",
       "</div>"
      ],
      "text/plain": [
       "                 DATASET_VERSION  COSMIC_ID CELL_LINE_NAME  DRUG_ID  \\\n",
       "IC50_RESULTS_ID                                                       \n",
       "1                           17.3     683665         MC-CAR        1   \n",
       "1482                        17.3     684055            ES3        1   \n",
       "1791                        17.3     684057            ES5        1   \n",
       "2177                        17.3     684059            ES7        1   \n",
       "2754                        17.3     684062          EW-11        1   \n",
       "\n",
       "                 DRUG_NAME PUTATIVE_TARGET  MAX_CONC_MICROMOLAR  \\\n",
       "IC50_RESULTS_ID                                                   \n",
       "1                Erlotinib            EGFR                  2.0   \n",
       "1482             Erlotinib            EGFR                  2.0   \n",
       "1791             Erlotinib            EGFR                  2.0   \n",
       "2177             Erlotinib            EGFR                  2.0   \n",
       "2754             Erlotinib            EGFR                  2.0   \n",
       "\n",
       "                 MIN_CONC_MICROMOLAR   LN_IC50       AUC      RMSE   Z_SCORE  \n",
       "IC50_RESULTS_ID                                                               \n",
       "1                           0.007812  2.453524  0.982610  0.021678 -0.015505  \n",
       "1482                        0.007812  3.376592  0.985169  0.029915  0.779999  \n",
       "1791                        0.007812  3.614664  0.983207  0.031201  0.985170  \n",
       "2177                        0.007812  3.223394  0.984574  0.093857  0.647971  \n",
       "2754                        0.007812  2.486405  0.946034  0.087280  0.012832  "
      ]
     },
     "execution_count": 3,
     "metadata": {},
     "output_type": "execute_result"
    }
   ],
   "source": [
    "dose_response_df.head()"
   ]
  },
  {
   "cell_type": "code",
   "execution_count": 6,
   "metadata": {},
   "outputs": [
    {
     "data": {
      "text/plain": [
       "<matplotlib.axes._subplots.AxesSubplot at 0x1a1a19b160>"
      ]
     },
     "execution_count": 6,
     "metadata": {},
     "output_type": "execute_result"
    },
    {
     "data": {
      "image/png": "[encoded data removed]",
      "text/plain": [
       "<Figure size 432x288 with 1 Axes>"
      ]
     },
     "metadata": {
      "needs_background": "light"
     },
     "output_type": "display_data"
    }
   ],
   "source": [
    "dose_response_df['LN_IC50'].hist()"
   ]
  },
  {
   "cell_type": "code",
   "execution_count": 6,
   "metadata": {},
   "outputs": [
    {
     "name": "stdout",
     "output_type": "stream",
     "text": [
      "202\n"
     ]
    }
   ],
   "source": [
    "print(len(dose_response_df['PUTATIVE_TARGET'].unique()))"
   ]
  },
  {
   "cell_type": "code",
   "execution_count": 7,
   "metadata": {},
   "outputs": [
    {
     "data": {
      "text/html": [
       "<div>\n",
       "<style scoped>\n",
       "    .dataframe tbody tr th:only-of-type {\n",
       "        vertical-align: middle;\n",
       "    }\n",
       "\n",
       "    .dataframe tbody tr th {\n",
       "        vertical-align: top;\n",
       "    }\n",
       "\n",
       "    .dataframe thead th {\n",
       "        text-align: right;\n",
       "    }\n",
       "</style>\n",
       "<table border=\"1\" class=\"dataframe\">\n",
       "  <thead>\n",
       "    <tr style=\"text-align: right;\">\n",
       "      <th></th>\n",
       "      <th>DATASET_VERSION</th>\n",
       "      <th>COSMIC_ID</th>\n",
       "      <th>DRUG_ID</th>\n",
       "      <th>MAX_CONC_MICROMOLAR</th>\n",
       "      <th>MIN_CONC_MICROMOLAR</th>\n",
       "      <th>LN_IC50</th>\n",
       "      <th>AUC</th>\n",
       "      <th>RMSE</th>\n",
       "      <th>Z_SCORE</th>\n",
       "    </tr>\n",
       "  </thead>\n",
       "  <tbody>\n",
       "    <tr>\n",
       "      <th>count</th>\n",
       "      <td>2.242020e+05</td>\n",
       "      <td>2.242020e+05</td>\n",
       "      <td>224202.000000</td>\n",
       "      <td>224202.000000</td>\n",
       "      <td>224202.000000</td>\n",
       "      <td>224202.000000</td>\n",
       "      <td>224202.000000</td>\n",
       "      <td>224202.000000</td>\n",
       "      <td>2.242020e+05</td>\n",
       "    </tr>\n",
       "    <tr>\n",
       "      <th>mean</th>\n",
       "      <td>1.730000e+01</td>\n",
       "      <td>9.910390e+05</td>\n",
       "      <td>574.022685</td>\n",
       "      <td>51.136400</td>\n",
       "      <td>0.198738</td>\n",
       "      <td>2.108974</td>\n",
       "      <td>0.843302</td>\n",
       "      <td>0.078491</td>\n",
       "      <td>-4.326456e-10</td>\n",
       "    </tr>\n",
       "    <tr>\n",
       "      <th>std</th>\n",
       "      <td>6.778238e-11</td>\n",
       "      <td>2.206914e+05</td>\n",
       "      <td>468.873175</td>\n",
       "      <td>385.633652</td>\n",
       "      <td>1.506492</td>\n",
       "      <td>2.687759</td>\n",
       "      <td>0.194401</td>\n",
       "      <td>0.052955</td>\n",
       "      <td>9.994088e-01</td>\n",
       "    </tr>\n",
       "    <tr>\n",
       "      <th>min</th>\n",
       "      <td>1.730000e+01</td>\n",
       "      <td>6.836650e+05</td>\n",
       "      <td>1.000000</td>\n",
       "      <td>0.008000</td>\n",
       "      <td>0.000031</td>\n",
       "      <td>-9.991409</td>\n",
       "      <td>0.003390</td>\n",
       "      <td>0.001793</td>\n",
       "      <td>-9.561461e+00</td>\n",
       "    </tr>\n",
       "    <tr>\n",
       "      <th>25%</th>\n",
       "      <td>1.730000e+01</td>\n",
       "      <td>9.068050e+05</td>\n",
       "      <td>199.000000</td>\n",
       "      <td>2.560000</td>\n",
       "      <td>0.009766</td>\n",
       "      <td>0.662618</td>\n",
       "      <td>0.784594</td>\n",
       "      <td>0.035752</td>\n",
       "      <td>-6.407060e-01</td>\n",
       "    </tr>\n",
       "    <tr>\n",
       "      <th>50%</th>\n",
       "      <td>1.730000e+01</td>\n",
       "      <td>9.097200e+05</td>\n",
       "      <td>293.000000</td>\n",
       "      <td>10.000000</td>\n",
       "      <td>0.031250</td>\n",
       "      <td>2.545984</td>\n",
       "      <td>0.928997</td>\n",
       "      <td>0.064146</td>\n",
       "      <td>3.300400e-02</td>\n",
       "    </tr>\n",
       "    <tr>\n",
       "      <th>75%</th>\n",
       "      <td>1.730000e+01</td>\n",
       "      <td>1.240154e+06</td>\n",
       "      <td>1042.000000</td>\n",
       "      <td>10.240000</td>\n",
       "      <td>0.040000</td>\n",
       "      <td>4.032219</td>\n",
       "      <td>0.977479</td>\n",
       "      <td>0.108132</td>\n",
       "      <td>6.801902e-01</td>\n",
       "    </tr>\n",
       "    <tr>\n",
       "      <th>max</th>\n",
       "      <td>1.730000e+01</td>\n",
       "      <td>2.164691e+06</td>\n",
       "      <td>1530.000000</td>\n",
       "      <td>4000.000000</td>\n",
       "      <td>15.625000</td>\n",
       "      <td>12.900156</td>\n",
       "      <td>0.999946</td>\n",
       "      <td>0.299938</td>\n",
       "      <td>5.255236e+00</td>\n",
       "    </tr>\n",
       "  </tbody>\n",
       "</table>\n",
       "</div>"
      ],
      "text/plain": [
       "       DATASET_VERSION     COSMIC_ID        DRUG_ID  MAX_CONC_MICROMOLAR  \\\n",
       "count     2.242020e+05  2.242020e+05  224202.000000        224202.000000   \n",
       "mean      1.730000e+01  9.910390e+05     574.022685            51.136400   \n",
       "std       6.778238e-11  2.206914e+05     468.873175           385.633652   \n",
       "min       1.730000e+01  6.836650e+05       1.000000             0.008000   \n",
       "25%       1.730000e+01  9.068050e+05     199.000000             2.560000   \n",
       "50%       1.730000e+01  9.097200e+05     293.000000            10.000000   \n",
       "75%       1.730000e+01  1.240154e+06    1042.000000            10.240000   \n",
       "max       1.730000e+01  2.164691e+06    1530.000000          4000.000000   \n",
       "\n",
       "       MIN_CONC_MICROMOLAR        LN_IC50            AUC           RMSE  \\\n",
       "count        224202.000000  224202.000000  224202.000000  224202.000000   \n",
       "mean              0.198738       2.108974       0.843302       0.078491   \n",
       "std               1.506492       2.687759       0.194401       0.052955   \n",
       "min               0.000031      -9.991409       0.003390       0.001793   \n",
       "25%               0.009766       0.662618       0.784594       0.035752   \n",
       "50%               0.031250       2.545984       0.928997       0.064146   \n",
       "75%               0.040000       4.032219       0.977479       0.108132   \n",
       "max              15.625000      12.900156       0.999946       0.299938   \n",
       "\n",
       "            Z_SCORE  \n",
       "count  2.242020e+05  \n",
       "mean  -4.326456e-10  \n",
       "std    9.994088e-01  \n",
       "min   -9.561461e+00  \n",
       "25%   -6.407060e-01  \n",
       "50%    3.300400e-02  \n",
       "75%    6.801902e-01  \n",
       "max    5.255236e+00  "
      ]
     },
     "execution_count": 7,
     "metadata": {},
     "output_type": "execute_result"
    }
   ],
   "source": [
    "dose_response_df.describe()"
   ]
  },
  {
   "cell_type": "code",
   "execution_count": 8,
   "metadata": {},
   "outputs": [
    {
     "name": "stdout",
     "output_type": "stream",
     "text": [
      "1065\n"
     ]
    }
   ],
   "source": [
    "print(len(dose_response_df['CELL_LINE_NAME'].unique()))"
   ]
  },
  {
   "cell_type": "code",
   "execution_count": 9,
   "metadata": {},
   "outputs": [
    {
     "name": "stdout",
     "output_type": "stream",
     "text": [
      "['MC-CAR' 'ES3' 'ES5' ... 'NCI-H1650' 'H2810' 'COR-L32']\n"
     ]
    }
   ],
   "source": [
    "print(dose_response_df['CELL_LINE_NAME'].unique())"
   ]
  },
  {
   "cell_type": "code",
   "execution_count": null,
   "metadata": {},
   "outputs": [],
   "source": []
  }
 ],
 "metadata": {
  "kernelspec": {
   "display_name": "Python 3",
   "language": "python",
   "name": "python3"
  },
  "language_info": {
   "codemirror_mode": {
    "name": "ipython",
    "version": 3
   },
   "file_extension": ".py",
   "mimetype": "text/x-python",
   "name": "python",
   "nbconvert_exporter": "python",
   "pygments_lexer": "ipython3",
   "version": "3.7.1"
  }
 },
 "nbformat": 4,
 "nbformat_minor": 2
}
