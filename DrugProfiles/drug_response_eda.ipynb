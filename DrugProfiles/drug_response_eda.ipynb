{
 "cells": [
  {
   "cell_type": "code",
   "execution_count": 1,
   "metadata": {},
   "outputs": [],
   "source": [
    "import numpy as np\n",
    "import pandas as pd\n",
    "import seaborn as sns\n",
    "import matplotlib.pyplot as plt\n"
   ]
  },
  {
   "cell_type": "code",
   "execution_count": 2,
   "metadata": {},
   "outputs": [],
   "source": [
    "dose_response_df = pd.read_csv('../data/v17.3_fitted_dose_response.csv', index_col='IC50_RESULTS_ID')"
   ]
  },
  {
   "cell_type": "code",
   "execution_count": 3,
   "metadata": {},
   "outputs": [
    {
     "data": {
      "text/html": [
       "<div>\n",
       "<style scoped>\n",
       "    .dataframe tbody tr th:only-of-type {\n",
       "        vertical-align: middle;\n",
       "    }\n",
       "\n",
       "    .dataframe tbody tr th {\n",
       "        vertical-align: top;\n",
       "    }\n",
       "\n",
       "    .dataframe thead th {\n",
       "        text-align: right;\n",
       "    }\n",
       "</style>\n",
       "<table border=\"1\" class=\"dataframe\">\n",
       "  <thead>\n",
       "    <tr style=\"text-align: right;\">\n",
       "      <th></th>\n",
       "      <th>DATASET_VERSION</th>\n",
       "      <th>COSMIC_ID</th>\n",
       "      <th>CELL_LINE_NAME</th>\n",
       "      <th>DRUG_ID</th>\n",
       "      <th>DRUG_NAME</th>\n",
       "      <th>PUTATIVE_TARGET</th>\n",
       "      <th>MAX_CONC_MICROMOLAR</th>\n",
       "      <th>MIN_CONC_MICROMOLAR</th>\n",
       "      <th>LN_IC50</th>\n",
       "      <th>AUC</th>\n",
       "      <th>RMSE</th>\n",
       "      <th>Z_SCORE</th>\n",
       "    </tr>\n",
       "    <tr>\n",
       "      <th>IC50_RESULTS_ID</th>\n",
       "      <th></th>\n",
       "      <th></th>\n",
       "      <th></th>\n",
       "      <th></th>\n",
       "      <th></th>\n",
       "      <th></th>\n",
       "      <th></th>\n",
       "      <th></th>\n",
       "      <th></th>\n",
       "      <th></th>\n",
       "      <th></th>\n",
       "      <th></th>\n",
       "    </tr>\n",
       "  </thead>\n",
       "  <tbody>\n",
       "    <tr>\n",
       "      <th>1</th>\n",
       "      <td>17.3</td>\n",
       "      <td>683665</td>\n",
       "      <td>MC-CAR</td>\n",
       "      <td>1</td>\n",
       "      <td>Erlotinib</td>\n",
       "      <td>EGFR</td>\n",
       "      <td>2.0</td>\n",
       "      <td>0.007812</td>\n",
       "      <td>2.453524</td>\n",
       "      <td>0.982610</td>\n",
       "      <td>0.021678</td>\n",
       "      <td>-0.015505</td>\n",
       "    </tr>\n",
       "    <tr>\n",
       "      <th>1482</th>\n",
       "      <td>17.3</td>\n",
       "      <td>684055</td>\n",
       "      <td>ES3</td>\n",
       "      <td>1</td>\n",
       "      <td>Erlotinib</td>\n",
       "      <td>EGFR</td>\n",
       "      <td>2.0</td>\n",
       "      <td>0.007812</td>\n",
       "      <td>3.376592</td>\n",
       "      <td>0.985169</td>\n",
       "      <td>0.029915</td>\n",
       "      <td>0.779999</td>\n",
       "    </tr>\n",
       "    <tr>\n",
       "      <th>1791</th>\n",
       "      <td>17.3</td>\n",
       "      <td>684057</td>\n",
       "      <td>ES5</td>\n",
       "      <td>1</td>\n",
       "      <td>Erlotinib</td>\n",
       "      <td>EGFR</td>\n",
       "      <td>2.0</td>\n",
       "      <td>0.007812</td>\n",
       "      <td>3.614664</td>\n",
       "      <td>0.983207</td>\n",
       "      <td>0.031201</td>\n",
       "      <td>0.985170</td>\n",
       "    </tr>\n",
       "    <tr>\n",
       "      <th>2177</th>\n",
       "      <td>17.3</td>\n",
       "      <td>684059</td>\n",
       "      <td>ES7</td>\n",
       "      <td>1</td>\n",
       "      <td>Erlotinib</td>\n",
       "      <td>EGFR</td>\n",
       "      <td>2.0</td>\n",
       "      <td>0.007812</td>\n",
       "      <td>3.223394</td>\n",
       "      <td>0.984574</td>\n",
       "      <td>0.093857</td>\n",
       "      <td>0.647971</td>\n",
       "    </tr>\n",
       "    <tr>\n",
       "      <th>2754</th>\n",
       "      <td>17.3</td>\n",
       "      <td>684062</td>\n",
       "      <td>EW-11</td>\n",
       "      <td>1</td>\n",
       "      <td>Erlotinib</td>\n",
       "      <td>EGFR</td>\n",
       "      <td>2.0</td>\n",
       "      <td>0.007812</td>\n",
       "      <td>2.486405</td>\n",
       "      <td>0.946034</td>\n",
       "      <td>0.087280</td>\n",
       "      <td>0.012832</td>\n",
       "    </tr>\n",
       "  </tbody>\n",
       "</table>\n",
       "</div>"
      ],
      "text/plain": [
       "                 DATASET_VERSION  COSMIC_ID CELL_LINE_NAME  DRUG_ID  \\\n",
       "IC50_RESULTS_ID                                                       \n",
       "1                           17.3     683665         MC-CAR        1   \n",
       "1482                        17.3     684055            ES3        1   \n",
       "1791                        17.3     684057            ES5        1   \n",
       "2177                        17.3     684059            ES7        1   \n",
       "2754                        17.3     684062          EW-11        1   \n",
       "\n",
       "                 DRUG_NAME PUTATIVE_TARGET  MAX_CONC_MICROMOLAR  \\\n",
       "IC50_RESULTS_ID                                                   \n",
       "1                Erlotinib            EGFR                  2.0   \n",
       "1482             Erlotinib            EGFR                  2.0   \n",
       "1791             Erlotinib            EGFR                  2.0   \n",
       "2177             Erlotinib            EGFR                  2.0   \n",
       "2754             Erlotinib            EGFR                  2.0   \n",
       "\n",
       "                 MIN_CONC_MICROMOLAR   LN_IC50       AUC      RMSE   Z_SCORE  \n",
       "IC50_RESULTS_ID                                                               \n",
       "1                           0.007812  2.453524  0.982610  0.021678 -0.015505  \n",
       "1482                        0.007812  3.376592  0.985169  0.029915  0.779999  \n",
       "1791                        0.007812  3.614664  0.983207  0.031201  0.985170  \n",
       "2177                        0.007812  3.223394  0.984574  0.093857  0.647971  \n",
       "2754                        0.007812  2.486405  0.946034  0.087280  0.012832  "
      ]
     },
     "execution_count": 3,
     "metadata": {},
     "output_type": "execute_result"
    }
   ],
   "source": [
    "dose_response_df.head()"
   ]
  },
  {
   "cell_type": "code",
   "execution_count": 6,
   "metadata": {},
   "outputs": [
    {
     "data": {
      "text/plain": [
       "<matplotlib.axes._subplots.AxesSubplot at 0x1a1a19b160>"
      ]
     },
     "execution_count": 6,
     "metadata": {},
     "output_type": "execute_result"
    },
    {
     "data": {
      "image/png": "[encoded data removed]",
      "text/plain": [
       "<Figure size 432x288 with 1 Axes>"
      ]
     },
     "metadata": {
      "needs_background": "light"
     },
     "output_type": "display_data"
    }
   ],
   "source": [
    "dose_response_df['LN_IC50'].hist()"
   ]
  },
  {
   "cell_type": "code",
   "execution_count": null,
   "metadata": {},
   "outputs": [],
   "source": []
  }
 ],
 "metadata": {
  "kernelspec": {
   "display_name": "Python 3",
   "language": "python",
   "name": "python3"
  },
  "language_info": {
   "codemirror_mode": {
    "name": "ipython",
    "version": 3
   },
   "file_extension": ".py",
   "mimetype": "text/x-python",
   "name": "python",
   "nbconvert_exporter": "python",
   "pygments_lexer": "ipython3",
   "version": "3.7.1"
  }
 },
 "nbformat": 4,
 "nbformat_minor": 2
}
