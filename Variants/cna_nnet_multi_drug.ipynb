{
 "cells": [
  {
   "cell_type": "code",
   "execution_count": 4,
   "metadata": {},
   "outputs": [],
   "source": [
    "from __future__ import absolute_import, division, print_function, unicode_literals\n",
    "\n",
    "import numpy as np\n",
    "import pandas as pd\n",
    "import seaborn as sns\n",
    "import matplotlib.pyplot as plt\n",
    "\n",
    "from sklearn.model_selection import train_test_split\n",
    "\n",
    "\n",
    "# Install TensorFlow\n",
    "\n",
    "import tensorflow as tf\n",
    "import tensorflow_hub as hub\n"
   ]
  },
  {
   "cell_type": "code",
   "execution_count": 6,
   "metadata": {},
   "outputs": [],
   "source": [
    "cna_efgr = pd.read_csv(\"../data/cna_ic50_Erlotinib_binary_resp.tsv\",sep = \"\\t\", index_col=\"COSMIC_ID\")\n",
    "cna_pacl = pd.read_csv(\"../data/cna_ic50_Paclitaxel_binary_resp.tsv\",sep = \"\\t\", index_col=\"COSMIC_ID\")\n",
    "cna_suni = pd.read_csv(\"../data/cna_ic50_Sunitinib_binary_resp.tsv\",sep = \"\\t\", index_col=\"COSMIC_ID\")\n",
    "cna_sora = pd.read_csv(\"../data/cna_ic50_Sorafenib_binary_resp.tsv\",sep = \"\\t\", index_col=\"COSMIC_ID\")\n",
    "cna_rapa = pd.read_csv(\"../data/cna_ic50_Rapamycin_binary_resp.tsv\",sep = \"\\t\", index_col=\"COSMIC_ID\")\n"
   ]
  },
  {
   "cell_type": "code",
   "execution_count": 8,
   "metadata": {},
   "outputs": [],
   "source": [
    "cna_multi_drug = pd.concat([cna_efgr, cna_pacl, cna_suni, cna_sora,cna_rapa], axis=0)"
   ]
  },
  {
   "cell_type": "code",
   "execution_count": 9,
   "metadata": {},
   "outputs": [
    {
     "data": {
      "text/html": [
       "<div>\n",
       "<style scoped>\n",
       "    .dataframe tbody tr th:only-of-type {\n",
       "        vertical-align: middle;\n",
       "    }\n",
       "\n",
       "    .dataframe tbody tr th {\n",
       "        vertical-align: top;\n",
       "    }\n",
       "\n",
       "    .dataframe thead th {\n",
       "        text-align: right;\n",
       "    }\n",
       "</style>\n",
       "<table border=\"1\" class=\"dataframe\">\n",
       "  <thead>\n",
       "    <tr style=\"text-align: right;\">\n",
       "      <th></th>\n",
       "      <th>Unnamed: 0</th>\n",
       "      <th>1</th>\n",
       "      <th>2</th>\n",
       "      <th>9</th>\n",
       "      <th>10</th>\n",
       "      <th>12</th>\n",
       "      <th>13</th>\n",
       "      <th>14</th>\n",
       "      <th>15</th>\n",
       "      <th>16</th>\n",
       "      <th>...</th>\n",
       "      <th>107161145</th>\n",
       "      <th>107985535</th>\n",
       "      <th>107986809</th>\n",
       "      <th>107987337</th>\n",
       "      <th>107987341</th>\n",
       "      <th>109731405</th>\n",
       "      <th>112441434</th>\n",
       "      <th>DRUG_ID</th>\n",
       "      <th>LN_IC50</th>\n",
       "      <th>BINARY_RESPONSE</th>\n",
       "    </tr>\n",
       "    <tr>\n",
       "      <th>COSMIC_ID</th>\n",
       "      <th></th>\n",
       "      <th></th>\n",
       "      <th></th>\n",
       "      <th></th>\n",
       "      <th></th>\n",
       "      <th></th>\n",
       "      <th></th>\n",
       "      <th></th>\n",
       "      <th></th>\n",
       "      <th></th>\n",
       "      <th></th>\n",
       "      <th></th>\n",
       "      <th></th>\n",
       "      <th></th>\n",
       "      <th></th>\n",
       "      <th></th>\n",
       "      <th></th>\n",
       "      <th></th>\n",
       "      <th></th>\n",
       "      <th></th>\n",
       "      <th></th>\n",
       "    </tr>\n",
       "  </thead>\n",
       "  <tbody>\n",
       "    <tr>\n",
       "      <td>1240128</td>\n",
       "      <td>0</td>\n",
       "      <td>-0.584963</td>\n",
       "      <td>0.415037</td>\n",
       "      <td>-0.584963</td>\n",
       "      <td>-0.584963</td>\n",
       "      <td>0.000000</td>\n",
       "      <td>0.000000</td>\n",
       "      <td>0.000000</td>\n",
       "      <td>0.000000</td>\n",
       "      <td>0.000000</td>\n",
       "      <td>...</td>\n",
       "      <td>0.000000</td>\n",
       "      <td>-0.584963</td>\n",
       "      <td>0.000000</td>\n",
       "      <td>-4.320000</td>\n",
       "      <td>-4.320000</td>\n",
       "      <td>0.000000</td>\n",
       "      <td>0.000000</td>\n",
       "      <td>1</td>\n",
       "      <td>2.632372</td>\n",
       "      <td>R</td>\n",
       "    </tr>\n",
       "    <tr>\n",
       "      <td>1240173</td>\n",
       "      <td>1</td>\n",
       "      <td>0.000000</td>\n",
       "      <td>-0.415037</td>\n",
       "      <td>0.321928</td>\n",
       "      <td>0.321928</td>\n",
       "      <td>-0.415037</td>\n",
       "      <td>0.321928</td>\n",
       "      <td>0.000000</td>\n",
       "      <td>0.000000</td>\n",
       "      <td>-0.415037</td>\n",
       "      <td>...</td>\n",
       "      <td>0.000000</td>\n",
       "      <td>0.000000</td>\n",
       "      <td>0.321928</td>\n",
       "      <td>-4.320000</td>\n",
       "      <td>-4.320000</td>\n",
       "      <td>-0.415037</td>\n",
       "      <td>-0.415037</td>\n",
       "      <td>1</td>\n",
       "      <td>3.323416</td>\n",
       "      <td>R</td>\n",
       "    </tr>\n",
       "    <tr>\n",
       "      <td>1240181</td>\n",
       "      <td>2</td>\n",
       "      <td>0.000000</td>\n",
       "      <td>0.000000</td>\n",
       "      <td>0.000000</td>\n",
       "      <td>0.000000</td>\n",
       "      <td>0.000000</td>\n",
       "      <td>0.000000</td>\n",
       "      <td>0.000000</td>\n",
       "      <td>0.000000</td>\n",
       "      <td>0.000000</td>\n",
       "      <td>...</td>\n",
       "      <td>0.000000</td>\n",
       "      <td>0.000000</td>\n",
       "      <td>0.000000</td>\n",
       "      <td>-1.584963</td>\n",
       "      <td>-1.584963</td>\n",
       "      <td>0.000000</td>\n",
       "      <td>0.000000</td>\n",
       "      <td>1</td>\n",
       "      <td>2.836213</td>\n",
       "      <td>R</td>\n",
       "    </tr>\n",
       "    <tr>\n",
       "      <td>1240182</td>\n",
       "      <td>3</td>\n",
       "      <td>0.000000</td>\n",
       "      <td>0.415037</td>\n",
       "      <td>0.415037</td>\n",
       "      <td>0.415037</td>\n",
       "      <td>0.415037</td>\n",
       "      <td>0.415037</td>\n",
       "      <td>0.000000</td>\n",
       "      <td>0.415037</td>\n",
       "      <td>-0.584963</td>\n",
       "      <td>...</td>\n",
       "      <td>0.000000</td>\n",
       "      <td>0.000000</td>\n",
       "      <td>0.000000</td>\n",
       "      <td>-1.584963</td>\n",
       "      <td>-4.320000</td>\n",
       "      <td>-0.584963</td>\n",
       "      <td>-0.584963</td>\n",
       "      <td>1</td>\n",
       "      <td>2.717111</td>\n",
       "      <td>R</td>\n",
       "    </tr>\n",
       "    <tr>\n",
       "      <td>1240183</td>\n",
       "      <td>4</td>\n",
       "      <td>-0.415037</td>\n",
       "      <td>0.000000</td>\n",
       "      <td>-1.000000</td>\n",
       "      <td>-1.000000</td>\n",
       "      <td>0.000000</td>\n",
       "      <td>0.000000</td>\n",
       "      <td>-0.415037</td>\n",
       "      <td>0.000000</td>\n",
       "      <td>-0.415037</td>\n",
       "      <td>...</td>\n",
       "      <td>0.321928</td>\n",
       "      <td>0.321928</td>\n",
       "      <td>0.000000</td>\n",
       "      <td>-4.320000</td>\n",
       "      <td>-4.320000</td>\n",
       "      <td>-0.415037</td>\n",
       "      <td>0.321928</td>\n",
       "      <td>1</td>\n",
       "      <td>0.508283</td>\n",
       "      <td>S</td>\n",
       "    </tr>\n",
       "  </tbody>\n",
       "</table>\n",
       "<p>5 rows × 24431 columns</p>\n",
       "</div>"
      ],
      "text/plain": [
       "           Unnamed: 0         1         2         9        10        12  \\\n",
       "COSMIC_ID                                                                 \n",
       "1240128             0 -0.584963  0.415037 -0.584963 -0.584963  0.000000   \n",
       "1240173             1  0.000000 -0.415037  0.321928  0.321928 -0.415037   \n",
       "1240181             2  0.000000  0.000000  0.000000  0.000000  0.000000   \n",
       "1240182             3  0.000000  0.415037  0.415037  0.415037  0.415037   \n",
       "1240183             4 -0.415037  0.000000 -1.000000 -1.000000  0.000000   \n",
       "\n",
       "                 13        14        15        16  ...  107161145  107985535  \\\n",
       "COSMIC_ID                                          ...                         \n",
       "1240128    0.000000  0.000000  0.000000  0.000000  ...   0.000000  -0.584963   \n",
       "1240173    0.321928  0.000000  0.000000 -0.415037  ...   0.000000   0.000000   \n",
       "1240181    0.000000  0.000000  0.000000  0.000000  ...   0.000000   0.000000   \n",
       "1240182    0.415037  0.000000  0.415037 -0.584963  ...   0.000000   0.000000   \n",
       "1240183    0.000000 -0.415037  0.000000 -0.415037  ...   0.321928   0.321928   \n",
       "\n",
       "           107986809  107987337  107987341  109731405  112441434  DRUG_ID  \\\n",
       "COSMIC_ID                                                                   \n",
       "1240128     0.000000  -4.320000  -4.320000   0.000000   0.000000        1   \n",
       "1240173     0.321928  -4.320000  -4.320000  -0.415037  -0.415037        1   \n",
       "1240181     0.000000  -1.584963  -1.584963   0.000000   0.000000        1   \n",
       "1240182     0.000000  -1.584963  -4.320000  -0.584963  -0.584963        1   \n",
       "1240183     0.000000  -4.320000  -4.320000  -0.415037   0.321928        1   \n",
       "\n",
       "            LN_IC50  BINARY_RESPONSE  \n",
       "COSMIC_ID                             \n",
       "1240128    2.632372                R  \n",
       "1240173    3.323416                R  \n",
       "1240181    2.836213                R  \n",
       "1240182    2.717111                R  \n",
       "1240183    0.508283                S  \n",
       "\n",
       "[5 rows x 24431 columns]"
      ]
     },
     "execution_count": 9,
     "metadata": {},
     "output_type": "execute_result"
    }
   ],
   "source": [
    "cna_multi_drug.head()"
   ]
  },
  {
   "cell_type": "code",
   "execution_count": 22,
   "metadata": {},
   "outputs": [
    {
     "name": "stderr",
     "output_type": "stream",
     "text": [
      "/Users/kbloom/anaconda3/lib/python3.7/site-packages/pandas/core/ops/__init__.py:1115: FutureWarning: elementwise comparison failed; returning scalar instead, but in the future will perform elementwise comparison\n",
      "  result = method(y)\n"
     ]
    },
    {
     "data": {
      "text/html": [
       "<div>\n",
       "<style scoped>\n",
       "    .dataframe tbody tr th:only-of-type {\n",
       "        vertical-align: middle;\n",
       "    }\n",
       "\n",
       "    .dataframe tbody tr th {\n",
       "        vertical-align: top;\n",
       "    }\n",
       "\n",
       "    .dataframe thead th {\n",
       "        text-align: right;\n",
       "    }\n",
       "</style>\n",
       "<table border=\"1\" class=\"dataframe\">\n",
       "  <thead>\n",
       "    <tr style=\"text-align: right;\">\n",
       "      <th></th>\n",
       "      <th>1</th>\n",
       "      <th>2</th>\n",
       "      <th>9</th>\n",
       "      <th>10</th>\n",
       "      <th>12</th>\n",
       "      <th>13</th>\n",
       "      <th>14</th>\n",
       "      <th>15</th>\n",
       "      <th>16</th>\n",
       "      <th>18</th>\n",
       "      <th>...</th>\n",
       "      <th>107133524</th>\n",
       "      <th>107161145</th>\n",
       "      <th>107985535</th>\n",
       "      <th>107986809</th>\n",
       "      <th>107987337</th>\n",
       "      <th>107987341</th>\n",
       "      <th>109731405</th>\n",
       "      <th>112441434</th>\n",
       "      <th>DRUG_ID</th>\n",
       "      <th>BINARY_RESPONSE</th>\n",
       "    </tr>\n",
       "    <tr>\n",
       "      <th>COSMIC_ID</th>\n",
       "      <th></th>\n",
       "      <th></th>\n",
       "      <th></th>\n",
       "      <th></th>\n",
       "      <th></th>\n",
       "      <th></th>\n",
       "      <th></th>\n",
       "      <th></th>\n",
       "      <th></th>\n",
       "      <th></th>\n",
       "      <th></th>\n",
       "      <th></th>\n",
       "      <th></th>\n",
       "      <th></th>\n",
       "      <th></th>\n",
       "      <th></th>\n",
       "      <th></th>\n",
       "      <th></th>\n",
       "      <th></th>\n",
       "      <th></th>\n",
       "      <th></th>\n",
       "    </tr>\n",
       "  </thead>\n",
       "  <tbody>\n",
       "    <tr>\n",
       "      <td>1240128</td>\n",
       "      <td>-0.584963</td>\n",
       "      <td>0.415037</td>\n",
       "      <td>-0.584963</td>\n",
       "      <td>-0.584963</td>\n",
       "      <td>0.000000</td>\n",
       "      <td>0.000000</td>\n",
       "      <td>0.000000</td>\n",
       "      <td>0.000000</td>\n",
       "      <td>0.000000</td>\n",
       "      <td>0.000000</td>\n",
       "      <td>...</td>\n",
       "      <td>-0.584963</td>\n",
       "      <td>0.000000</td>\n",
       "      <td>-0.584963</td>\n",
       "      <td>0.000000</td>\n",
       "      <td>-4.320000</td>\n",
       "      <td>-4.320000</td>\n",
       "      <td>0.000000</td>\n",
       "      <td>0.000000</td>\n",
       "      <td>1</td>\n",
       "      <td>0</td>\n",
       "    </tr>\n",
       "    <tr>\n",
       "      <td>1240173</td>\n",
       "      <td>0.000000</td>\n",
       "      <td>-0.415037</td>\n",
       "      <td>0.321928</td>\n",
       "      <td>0.321928</td>\n",
       "      <td>-0.415037</td>\n",
       "      <td>0.321928</td>\n",
       "      <td>0.000000</td>\n",
       "      <td>0.000000</td>\n",
       "      <td>-0.415037</td>\n",
       "      <td>-0.415037</td>\n",
       "      <td>...</td>\n",
       "      <td>0.000000</td>\n",
       "      <td>0.000000</td>\n",
       "      <td>0.000000</td>\n",
       "      <td>0.321928</td>\n",
       "      <td>-4.320000</td>\n",
       "      <td>-4.320000</td>\n",
       "      <td>-0.415037</td>\n",
       "      <td>-0.415037</td>\n",
       "      <td>1</td>\n",
       "      <td>0</td>\n",
       "    </tr>\n",
       "    <tr>\n",
       "      <td>1240181</td>\n",
       "      <td>0.000000</td>\n",
       "      <td>0.000000</td>\n",
       "      <td>0.000000</td>\n",
       "      <td>0.000000</td>\n",
       "      <td>0.000000</td>\n",
       "      <td>0.000000</td>\n",
       "      <td>0.000000</td>\n",
       "      <td>0.000000</td>\n",
       "      <td>0.000000</td>\n",
       "      <td>0.000000</td>\n",
       "      <td>...</td>\n",
       "      <td>0.000000</td>\n",
       "      <td>0.000000</td>\n",
       "      <td>0.000000</td>\n",
       "      <td>0.000000</td>\n",
       "      <td>-1.584963</td>\n",
       "      <td>-1.584963</td>\n",
       "      <td>0.000000</td>\n",
       "      <td>0.000000</td>\n",
       "      <td>1</td>\n",
       "      <td>0</td>\n",
       "    </tr>\n",
       "    <tr>\n",
       "      <td>1240182</td>\n",
       "      <td>0.000000</td>\n",
       "      <td>0.415037</td>\n",
       "      <td>0.415037</td>\n",
       "      <td>0.415037</td>\n",
       "      <td>0.415037</td>\n",
       "      <td>0.415037</td>\n",
       "      <td>0.000000</td>\n",
       "      <td>0.415037</td>\n",
       "      <td>-0.584963</td>\n",
       "      <td>0.000000</td>\n",
       "      <td>...</td>\n",
       "      <td>0.415037</td>\n",
       "      <td>0.000000</td>\n",
       "      <td>0.000000</td>\n",
       "      <td>0.000000</td>\n",
       "      <td>-1.584963</td>\n",
       "      <td>-4.320000</td>\n",
       "      <td>-0.584963</td>\n",
       "      <td>-0.584963</td>\n",
       "      <td>1</td>\n",
       "      <td>0</td>\n",
       "    </tr>\n",
       "    <tr>\n",
       "      <td>1240183</td>\n",
       "      <td>-0.415037</td>\n",
       "      <td>0.000000</td>\n",
       "      <td>-1.000000</td>\n",
       "      <td>-1.000000</td>\n",
       "      <td>0.000000</td>\n",
       "      <td>0.000000</td>\n",
       "      <td>-0.415037</td>\n",
       "      <td>0.000000</td>\n",
       "      <td>-0.415037</td>\n",
       "      <td>-0.415037</td>\n",
       "      <td>...</td>\n",
       "      <td>0.321928</td>\n",
       "      <td>0.321928</td>\n",
       "      <td>0.321928</td>\n",
       "      <td>0.000000</td>\n",
       "      <td>-4.320000</td>\n",
       "      <td>-4.320000</td>\n",
       "      <td>-0.415037</td>\n",
       "      <td>0.321928</td>\n",
       "      <td>1</td>\n",
       "      <td>1</td>\n",
       "    </tr>\n",
       "  </tbody>\n",
       "</table>\n",
       "<p>5 rows × 24429 columns</p>\n",
       "</div>"
      ],
      "text/plain": [
       "                  1         2         9        10        12        13  \\\n",
       "COSMIC_ID                                                               \n",
       "1240128   -0.584963  0.415037 -0.584963 -0.584963  0.000000  0.000000   \n",
       "1240173    0.000000 -0.415037  0.321928  0.321928 -0.415037  0.321928   \n",
       "1240181    0.000000  0.000000  0.000000  0.000000  0.000000  0.000000   \n",
       "1240182    0.000000  0.415037  0.415037  0.415037  0.415037  0.415037   \n",
       "1240183   -0.415037  0.000000 -1.000000 -1.000000  0.000000  0.000000   \n",
       "\n",
       "                 14        15        16        18  ...  107133524  107161145  \\\n",
       "COSMIC_ID                                          ...                         \n",
       "1240128    0.000000  0.000000  0.000000  0.000000  ...  -0.584963   0.000000   \n",
       "1240173    0.000000  0.000000 -0.415037 -0.415037  ...   0.000000   0.000000   \n",
       "1240181    0.000000  0.000000  0.000000  0.000000  ...   0.000000   0.000000   \n",
       "1240182    0.000000  0.415037 -0.584963  0.000000  ...   0.415037   0.000000   \n",
       "1240183   -0.415037  0.000000 -0.415037 -0.415037  ...   0.321928   0.321928   \n",
       "\n",
       "           107985535  107986809  107987337  107987341  109731405  112441434  \\\n",
       "COSMIC_ID                                                                     \n",
       "1240128    -0.584963   0.000000  -4.320000  -4.320000   0.000000   0.000000   \n",
       "1240173     0.000000   0.321928  -4.320000  -4.320000  -0.415037  -0.415037   \n",
       "1240181     0.000000   0.000000  -1.584963  -1.584963   0.000000   0.000000   \n",
       "1240182     0.000000   0.000000  -1.584963  -4.320000  -0.584963  -0.584963   \n",
       "1240183     0.321928   0.000000  -4.320000  -4.320000  -0.415037   0.321928   \n",
       "\n",
       "           DRUG_ID  BINARY_RESPONSE  \n",
       "COSMIC_ID                            \n",
       "1240128          1                0  \n",
       "1240173          1                0  \n",
       "1240181          1                0  \n",
       "1240182          1                0  \n",
       "1240183          1                1  \n",
       "\n",
       "[5 rows x 24429 columns]"
      ]
     },
     "execution_count": 22,
     "metadata": {},
     "output_type": "execute_result"
    }
   ],
   "source": [
    "len(cna_multi_drug)\n",
    "\n",
    "cna_multi_drug = cna_multi_drug.drop('LN_IC50', axis=1)\n",
    "cna_multi_drug = cna_multi_drug.drop('Unnamed: 0', axis=1)\n",
    "\n",
    "cna_multi_drug.loc[(cna_multi_drug.BINARY_RESPONSE == 'S'),'BINARY_RESPONSE'] = 1\n",
    "cna_multi_drug.loc[(cna_multi_drug.BINARY_RESPONSE == 'R'),'BINARY_RESPONSE'] = 0\n",
    "\n",
    "cna_multi_drug.head()"
   ]
  },
  {
   "cell_type": "code",
   "execution_count": 23,
   "metadata": {},
   "outputs": [],
   "source": [
    "# split data\n",
    "train_data_set, dev_data_set, train_labels, dev_labels = train_test_split(cna_multi_drug, cna_multi_drug['BINARY_RESPONSE'], test_size=0.20, random_state=0)\n"
   ]
  },
  {
   "cell_type": "code",
   "execution_count": 85,
   "metadata": {},
   "outputs": [],
   "source": [
    "#target = wes_multi_drug.pop('BINARY_RESPONSE')\n",
    "\n"
   ]
  },
  {
   "cell_type": "code",
   "execution_count": 24,
   "metadata": {},
   "outputs": [],
   "source": [
    "train_dataset = tf.data.Dataset.from_tensor_slices((train_data_set.values, train_labels.values))\n",
    "train_dataset = train_dataset.shuffle(len(train_data_set)).batch(1)"
   ]
  },
  {
   "cell_type": "code",
   "execution_count": 26,
   "metadata": {},
   "outputs": [],
   "source": [
    "test_dataset = tf.data.Dataset.from_tensor_slices((dev_data_set.values, dev_labels.values))\n",
    "test_dataset = test_dataset.shuffle(len(dev_data_set)).batch(1)"
   ]
  },
  {
   "cell_type": "code",
   "execution_count": 27,
   "metadata": {},
   "outputs": [],
   "source": [
    "model = tf.keras.models.Sequential([\n",
    "  #tf.keras.layers.Flatten(input_shape=(18384,)),\n",
    "  tf.keras.layers.Dense(units=128, activation='relu'),\n",
    "  tf.keras.layers.Dropout(0.2),\n",
    "  tf.keras.layers.Dense(10, activation='softmax')\n",
    "])\n",
    "\n",
    "model.compile(optimizer='adam',\n",
    "              loss='sparse_categorical_crossentropy',\n",
    "              metrics=['accuracy'])"
   ]
  },
  {
   "cell_type": "code",
   "execution_count": 28,
   "metadata": {},
   "outputs": [
    {
     "name": "stdout",
     "output_type": "stream",
     "text": [
      "WARNING:tensorflow:Layer sequential is casting an input tensor from dtype float64 to the layer's dtype of float32, which is new behavior in TensorFlow 2.  The layer has dtype float32 because it's dtype defaults to floatx.\n",
      "\n",
      "If you intended to run this layer in float32, you can safely ignore this warning. If in doubt, this warning is likely only an issue if you are porting a TensorFlow 1.X model to TensorFlow 2.\n",
      "\n",
      "To change all layers to have dtype float64 by default, call `tf.keras.backend.set_floatx('float64')`. To change just this layer, pass dtype='float64' to the layer constructor. If you are the author of this layer, you can disable autocasting by passing autocast=False to the base Layer constructor.\n",
      "\n",
      "Train for 90 steps\n",
      "Epoch 1/10\n",
      "90/90 [==============================] - 1s 16ms/step - loss: 4.2988 - accuracy: 0.7778\n",
      "Epoch 2/10\n",
      "90/90 [==============================] - 1s 9ms/step - loss: 5.2112 - accuracy: 0.8000\n",
      "Epoch 3/10\n",
      "90/90 [==============================] - 1s 9ms/step - loss: 2.5472 - accuracy: 0.8000\n",
      "Epoch 4/10\n",
      "90/90 [==============================] - 1s 9ms/step - loss: 5.3535 - accuracy: 0.7333\n",
      "Epoch 5/10\n",
      "90/90 [==============================] - 1s 9ms/step - loss: 4.7414 - accuracy: 0.7778\n",
      "Epoch 6/10\n",
      "90/90 [==============================] - 1s 9ms/step - loss: 2.0556 - accuracy: 0.8111\n",
      "Epoch 7/10\n",
      "90/90 [==============================] - 1s 9ms/step - loss: 2.0501 - accuracy: 0.8444\n",
      "Epoch 8/10\n",
      "90/90 [==============================] - 1s 9ms/step - loss: 1.7745 - accuracy: 0.7556\n",
      "Epoch 9/10\n",
      "90/90 [==============================] - 1s 10ms/step - loss: 1.7392 - accuracy: 0.7778\n",
      "Epoch 10/10\n",
      "90/90 [==============================] - 1s 10ms/step - loss: 2.0152 - accuracy: 0.8111\n"
     ]
    },
    {
     "data": {
      "text/plain": [
       "<tensorflow.python.keras.callbacks.History at 0x1a41927c10>"
      ]
     },
     "execution_count": 28,
     "metadata": {},
     "output_type": "execute_result"
    }
   ],
   "source": [
    "model.fit(train_dataset, epochs=10, steps_per_epoch=150)"
   ]
  },
  {
   "cell_type": "code",
   "execution_count": 29,
   "metadata": {},
   "outputs": [
    {
     "name": "stdout",
     "output_type": "stream",
     "text": [
      "388/388 - 1s - loss: 1.0584 - accuracy: 0.8247\n"
     ]
    },
    {
     "data": {
      "text/plain": [
       "[1.0583661399617916, 0.82474226]"
      ]
     },
     "execution_count": 29,
     "metadata": {},
     "output_type": "execute_result"
    }
   ],
   "source": [
    "model.evaluate(test_dataset, verbose=2, steps=len(dev_data_set))"
   ]
  },
  {
   "cell_type": "code",
   "execution_count": 30,
   "metadata": {},
   "outputs": [
    {
     "name": "stdout",
     "output_type": "stream",
     "text": [
      "Model: \"sequential\"\n",
      "_________________________________________________________________\n",
      "Layer (type)                 Output Shape              Param #   \n",
      "=================================================================\n",
      "dense (Dense)                multiple                  3127040   \n",
      "_________________________________________________________________\n",
      "dropout (Dropout)            multiple                  0         \n",
      "_________________________________________________________________\n",
      "dense_1 (Dense)              multiple                  1290      \n",
      "=================================================================\n",
      "Total params: 3,128,330\n",
      "Trainable params: 3,128,330\n",
      "Non-trainable params: 0\n",
      "_________________________________________________________________\n"
     ]
    }
   ],
   "source": [
    "model.summary()"
   ]
  },
  {
   "cell_type": "code",
   "execution_count": 31,
   "metadata": {},
   "outputs": [
    {
     "name": "stdout",
     "output_type": "stream",
     "text": [
      "WARNING:tensorflow:Layer dense is casting an input tensor from dtype float64 to the layer's dtype of float32, which is new behavior in TensorFlow 2.  The layer has dtype float32 because it's dtype defaults to floatx.\n",
      "\n",
      "If you intended to run this layer in float32, you can safely ignore this warning. If in doubt, this warning is likely only an issue if you are porting a TensorFlow 1.X model to TensorFlow 2.\n",
      "\n",
      "To change all layers to have dtype float64 by default, call `tf.keras.backend.set_floatx('float64')`. To change just this layer, pass dtype='float64' to the layer constructor. If you are the author of this layer, you can disable autocasting by passing autocast=False to the base Layer constructor.\n",
      "\n",
      "WARNING:tensorflow:From /Users/kbloom/anaconda3/lib/python3.7/site-packages/tensorflow_core/python/ops/resource_variable_ops.py:1781: calling BaseResourceVariable.__init__ (from tensorflow.python.ops.resource_variable_ops) with constraint is deprecated and will be removed in a future version.\n",
      "Instructions for updating:\n",
      "If using Keras pass *_constraint arguments to layers.\n",
      "INFO:tensorflow:Assets written to: cna_multi_model/assets\n"
     ]
    }
   ],
   "source": [
    "model.save('cna_multi_model')"
   ]
  },
  {
   "cell_type": "code",
   "execution_count": 130,
   "metadata": {},
   "outputs": [
    {
     "name": "stdout",
     "output_type": "stream",
     "text": [
      "_________________________________________________________________\n",
      "Layer (type)                 Output Shape              Param #   \n",
      "=================================================================\n",
      "flatten_4 (Flatten)          (None, 18384)             0         \n",
      "_________________________________________________________________\n",
      "dense_20 (Dense)             (None, 128)               2353280   \n",
      "_________________________________________________________________\n",
      "dropout_9 (Dropout)          (None, 128)               0         \n",
      "_________________________________________________________________\n",
      "dense_21 (Dense)             (None, 10)                1290      \n",
      "=================================================================\n",
      "Total params: 2,354,570\n",
      "Trainable params: 2,354,570\n",
      "Non-trainable params: 0\n",
      "_________________________________________________________________\n"
     ]
    }
   ],
   "source": [
    "new_model = tf.keras.models.load_model('wes_multi_model')\n",
    "\n",
    "# Check its architecture\n",
    "new_model.summary()"
   ]
  },
  {
   "cell_type": "code",
   "execution_count": 68,
   "metadata": {},
   "outputs": [],
   "source": [
    "hub_url = \"cna_multi_model/\"\n",
    "embed = hub.KerasLayer(hub_url, input_shape=(24429,), dtype=tf.float64, trainable=False)"
   ]
  },
  {
   "cell_type": "code",
   "execution_count": 69,
   "metadata": {},
   "outputs": [],
   "source": [
    "anotha_model = tf.keras.Sequential([\n",
    "    embed,\n",
    "    tf.keras.layers.Dense(16, activation=\"relu\"),\n",
    "    tf.keras.layers.Dense(1, activation=\"sigmoid\"),\n",
    "])"
   ]
  },
  {
   "cell_type": "code",
   "execution_count": 70,
   "metadata": {},
   "outputs": [],
   "source": [
    "anotha_model.compile(optimizer='adam',\n",
    "              loss='binary_crossentropy',\n",
    "              metrics=['accuracy'])\n"
   ]
  },
  {
   "cell_type": "code",
   "execution_count": 80,
   "metadata": {},
   "outputs": [
    {
     "name": "stdout",
     "output_type": "stream",
     "text": [
      "Train for 150 steps, validate for 388 steps\n",
      "Epoch 1/10\n",
      "150/150 [==============================] - 1s 9ms/step - loss: 0.3978 - accuracy: 0.8533 - val_loss: 0.2761 - val_accuracy: 0.9227\n",
      "Epoch 2/10\n",
      "150/150 [==============================] - 1s 7ms/step - loss: 0.3804 - accuracy: 0.8667 - val_loss: 0.2784 - val_accuracy: 0.9227\n",
      "Epoch 3/10\n",
      "150/150 [==============================] - 1s 7ms/step - loss: 0.3920 - accuracy: 0.8667 - val_loss: 0.2777 - val_accuracy: 0.9227\n",
      "Epoch 4/10\n",
      "150/150 [==============================] - 1s 7ms/step - loss: 0.3164 - accuracy: 0.8933 - val_loss: 0.2740 - val_accuracy: 0.9227\n",
      "Epoch 5/10\n",
      "150/150 [==============================] - 1s 7ms/step - loss: 0.2604 - accuracy: 0.9400 - val_loss: 0.2665 - val_accuracy: 0.9227\n",
      "Epoch 6/10\n",
      "150/150 [==============================] - 1s 7ms/step - loss: 0.4356 - accuracy: 0.8400 - val_loss: 0.2716 - val_accuracy: 0.9227\n",
      "Epoch 7/10\n",
      "150/150 [==============================] - 1s 7ms/step - loss: 0.2934 - accuracy: 0.9133 - val_loss: 0.2680 - val_accuracy: 0.9227\n",
      "Epoch 8/10\n",
      "150/150 [==============================] - 1s 7ms/step - loss: 0.3167 - accuracy: 0.9000 - val_loss: 0.2668 - val_accuracy: 0.9227\n",
      "Epoch 9/10\n",
      "150/150 [==============================] - 1s 7ms/step - loss: 0.4071 - accuracy: 0.8533 - val_loss: 0.2694 - val_accuracy: 0.9227\n",
      "Epoch 10/10\n",
      "150/150 [==============================] - 1s 7ms/step - loss: 0.3705 - accuracy: 0.8667 - val_loss: 0.2742 - val_accuracy: 0.9227\n"
     ]
    }
   ],
   "source": [
    "history = anotha_model.fit(train_dataset, epochs=10, steps_per_epoch=150, validation_data=(test_dataset))"
   ]
  },
  {
   "cell_type": "code",
   "execution_count": 81,
   "metadata": {},
   "outputs": [
    {
     "data": {
      "text/plain": [
       "<matplotlib.legend.Legend at 0x1a68c185d0>"
      ]
     },
     "execution_count": 81,
     "metadata": {},
     "output_type": "execute_result"
    },
    {
     "data": {
      "image/png": "[encoded data removed]",
      "text/plain": [
       "<Figure size 432x288 with 1 Axes>"
      ]
     },
     "metadata": {
      "needs_background": "light"
     },
     "output_type": "display_data"
    }
   ],
   "source": [
    "plt.plot(history.history['accuracy'], label='accuracy')\n",
    "plt.plot(history.history['val_accuracy'], label = 'val_accuracy')\n",
    "plt.xlabel('Epoch')\n",
    "plt.ylabel('Accuracy')\n",
    "plt.ylim([0.5, 1])\n",
    "plt.legend(loc='lower right')"
   ]
  },
  {
   "cell_type": "code",
   "execution_count": 82,
   "metadata": {},
   "outputs": [
    {
     "name": "stdout",
     "output_type": "stream",
     "text": [
      "388/388 - 1s - loss: 0.2742 - accuracy: 0.9227\n"
     ]
    }
   ],
   "source": [
    "test_loss, test_acc = anotha_model.evaluate(test_dataset, verbose=2, steps=len(dev_data_set))"
   ]
  },
  {
   "cell_type": "code",
   "execution_count": 65,
   "metadata": {},
   "outputs": [],
   "source": [
    "all_weights = []\n",
    "for layer in anotha_model.layers:\n",
    "   w = layer.get_weights()\n",
    "   all_weights.append(w)"
   ]
  },
  {
   "cell_type": "code",
   "execution_count": 74,
   "metadata": {},
   "outputs": [
    {
     "name": "stdout",
     "output_type": "stream",
     "text": [
      "0.92268044\n"
     ]
    }
   ],
   "source": [
    "print(test_acc)"
   ]
  },
  {
   "cell_type": "code",
   "execution_count": 67,
   "metadata": {},
   "outputs": [
    {
     "name": "stdout",
     "output_type": "stream",
     "text": [
      "[[array([[-0.04909669, -0.01523309, -0.01865687, ..., -0.01055465,\n",
      "         0.01344721, -0.02748404],\n",
      "       [-0.03641999, -0.02685677,  0.00290082, ..., -0.03744866,\n",
      "        -0.0090578 , -0.04769251],\n",
      "       [ 0.00803957, -0.00854779,  0.02295541, ..., -0.0115859 ,\n",
      "         0.02968053,  0.03313942],\n",
      "       ...,\n",
      "       [-0.0318936 , -0.00824761, -0.01459652, ...,  0.03438311,\n",
      "         0.02144709,  0.04907155],\n",
      "       [-0.07699451, -0.02163057, -0.05207279, ..., -0.04741478,\n",
      "        -0.02081542, -0.003164  ],\n",
      "       [ 0.01142061, -0.06648941, -0.01294564, ..., -0.00021745,\n",
      "         0.02926855,  0.06726924]], dtype=float32), array([-0.05742534, -0.02629478, -0.05400872, -0.03673787, -0.03749199,\n",
      "       -0.04593214, -0.0265057 ,  0.00884796, -0.02059793, -0.01546956,\n",
      "       -0.01579989,  0.03631994, -0.0211074 , -0.00523069, -0.02447747,\n",
      "       -0.02517388, -0.02245427,  0.04299168,  0.00242443, -0.02518057,\n",
      "       -0.00963164, -0.03565749, -0.0485021 , -0.0081458 , -0.02202019,\n",
      "       -0.01815645, -0.00275129, -0.02112816, -0.00997643,  0.03293157,\n",
      "       -0.03427157, -0.01531102, -0.00883981,  0.02232946, -0.01815844,\n",
      "        0.00046296,  0.00934611, -0.0128424 , -0.03533312,  0.0288438 ,\n",
      "        0.03057649, -0.02544249, -0.00926495, -0.01422388,  0.00994601,\n",
      "       -0.00095294, -0.01962949, -0.03256995, -0.02554223, -0.02049702,\n",
      "        0.03541911, -0.03294657, -0.02036215, -0.03469769, -0.03555188,\n",
      "       -0.01724338,  0.0221031 , -0.01673909, -0.00549971, -0.02598106,\n",
      "       -0.03271557, -0.02173711, -0.00949725, -0.01372632, -0.01634246,\n",
      "       -0.00758679, -0.00555816, -0.03121121, -0.00570571, -0.0431219 ,\n",
      "       -0.00691709, -0.00797706,  0.04248619, -0.048873  ,  0.00795928,\n",
      "        0.02441882, -0.03138614, -0.02341582, -0.02330945, -0.04282226,\n",
      "        0.02693077, -0.04171034, -0.00977274, -0.01832903, -0.01721507,\n",
      "       -0.03603548, -0.03327122, -0.00814734,  0.04504726, -0.01919135,\n",
      "       -0.02531719, -0.01974489, -0.01704971, -0.0291389 , -0.0264962 ,\n",
      "        0.006937  , -0.02514125,  0.02305325, -0.03749617, -0.0613166 ,\n",
      "        0.02784723, -0.02679374, -0.02246676, -0.0276785 , -0.00234073,\n",
      "       -0.0572926 , -0.04558457,  0.00801017, -0.02620311, -0.02918199,\n",
      "       -0.02330669, -0.00971191, -0.0137579 , -0.03420676, -0.04456811,\n",
      "       -0.03232602, -0.0125249 , -0.03602039, -0.01601662,  0.0232993 ,\n",
      "        0.00077768,  0.02747161, -0.03067147, -0.01210041, -0.02567914,\n",
      "       -0.04782668, -0.04152166, -0.04841598], dtype=float32), array([[-0.10023954,  0.04509757,  0.0737628 , ...,  0.11874816,\n",
      "         0.027289  ,  0.05558771],\n",
      "       [ 0.15539137,  0.03924974, -0.15740444, ..., -0.17952171,\n",
      "        -0.11340764,  0.03167783],\n",
      "       [-0.14080466,  0.02054942,  0.12227742, ..., -0.08001861,\n",
      "        -0.01661868, -0.03603261],\n",
      "       ...,\n",
      "       [-0.1417374 ,  0.15045236,  0.06220042, ...,  0.08133408,\n",
      "        -0.02731406,  0.18519467],\n",
      "       [-0.10520983,  0.01730158,  0.12923147, ...,  0.06602874,\n",
      "        -0.17352304, -0.1840499 ],\n",
      "       [-0.01889049,  0.10258984,  0.00074262, ..., -0.2059711 ,\n",
      "         0.05168214,  0.1204089 ]], dtype=float32), array([ 0.02121261, -0.01023491, -0.01645555, -0.04114162, -0.07886158,\n",
      "       -0.06533574, -0.02389302, -0.05223415, -0.03252885, -0.04331585],\n",
      "      dtype=float32)], [array([[ 0.05339677, -0.28208268, -0.38750345,  0.3857433 ,  0.6003391 ,\n",
      "         0.15158202, -0.06611395, -0.42923903, -0.43789637, -0.24881768,\n",
      "         0.427737  ,  0.25328258, -0.4215076 ,  0.5652217 ,  0.55483305,\n",
      "         0.1127739 ],\n",
      "       [ 0.13857268, -0.43925846,  0.44140244, -0.33166316, -0.33745292,\n",
      "        -0.2482833 , -0.21587443, -0.32937774, -0.07741775, -0.11892582,\n",
      "         0.48195365,  0.24559888, -0.09543815,  0.01421898,  0.3472261 ,\n",
      "         0.33523402],\n",
      "       [-0.14200704,  0.22471376,  0.16691372,  0.48344857,  0.31466645,\n",
      "        -0.3564201 ,  0.38650247,  0.09493072,  0.40405968,  0.46564138,\n",
      "         0.03732698,  0.27206933, -0.21371174, -0.28005373, -0.41961777,\n",
      "         0.40479007],\n",
      "       [ 0.3003994 , -0.2706405 , -0.29539648, -0.19784747,  0.42791876,\n",
      "        -0.35838735,  0.43892014, -0.15681034,  0.03410894,  0.16321647,\n",
      "         0.0292066 , -0.478464  , -0.10132629,  0.49657196, -0.4428356 ,\n",
      "        -0.30859935],\n",
      "       [ 0.21452321, -0.00409891,  0.1739513 , -0.08020128,  0.3282488 ,\n",
      "        -0.22288652, -0.2051958 ,  0.14933477,  0.47489968, -0.2180694 ,\n",
      "         0.46629614,  0.09495244, -0.15119663, -0.15540518, -0.25793567,\n",
      "         0.38641593],\n",
      "       [ 0.39712027, -0.38863373, -0.36162013, -0.41676888, -0.38240498,\n",
      "        -0.00563187, -0.1656528 ,  0.43673325,  0.12806259,  0.32584712,\n",
      "        -0.03552926,  0.15299197,  0.30046663,  0.36713898,  0.36147383,\n",
      "         0.14990029],\n",
      "       [-0.13175969,  0.35308886,  0.10558799,  0.268761  ,  0.41864902,\n",
      "         0.18713588,  0.41255882,  0.4666872 , -0.43319282,  0.41165382,\n",
      "        -0.44572908, -0.3492433 ,  0.05455565, -0.13084373,  0.3610212 ,\n",
      "         0.05075477],\n",
      "       [-0.44997913,  0.26493275,  0.16177762,  0.19858532, -0.3883249 ,\n",
      "        -0.01331415,  0.43232512, -0.06219417, -0.21751821, -0.258476  ,\n",
      "         0.42072204,  0.25195065,  0.30338264,  0.14223732, -0.13181928,\n",
      "         0.3181516 ],\n",
      "       [ 0.0382523 ,  0.47143143, -0.47678736,  0.35636646, -0.01531709,\n",
      "        -0.40732843, -0.3577706 , -0.09742543, -0.34686077,  0.48226467,\n",
      "         0.2883552 , -0.44382024, -0.24979912,  0.21365997, -0.15593657,\n",
      "         0.05498811],\n",
      "       [ 0.05350183,  0.2801845 , -0.05035105,  0.2422131 , -0.21644634,\n",
      "         0.22732684, -0.34097216, -0.4201607 , -0.17863324,  0.34688914,\n",
      "        -0.32772592,  0.18738788,  0.07256305,  0.00459682,  0.2885951 ,\n",
      "        -0.00798471]], dtype=float32), array([-0.0721888 ,  0.02558221, -0.03432493,  0.25833344,  0.3287996 ,\n",
      "       -0.15772161, -0.00225156, -0.02754973,  0.01821325,  0.02515171,\n",
      "        0.30367997, -0.187948  , -0.01298944,  0.25343037,  0.24837512,\n",
      "       -0.11320972], dtype=float32)], [array([[ 0.44203153],\n",
      "       [-0.2545643 ],\n",
      "       [ 0.09657688],\n",
      "       [-0.5907271 ],\n",
      "       [-0.3129522 ],\n",
      "       [ 0.4836867 ],\n",
      "       [-0.40947697],\n",
      "       [ 0.55355006],\n",
      "       [-0.5887948 ],\n",
      "       [-0.28197318],\n",
      "       [-0.2947401 ],\n",
      "       [ 0.16241087],\n",
      "       [ 0.2072774 ],\n",
      "       [-0.54932785],\n",
      "       [-0.57785416],\n",
      "       [ 0.01406944]], dtype=float32), array([-0.22105423], dtype=float32)]]\n"
     ]
    }
   ],
   "source": [
    "print(all_weights)"
   ]
  },
  {
   "cell_type": "code",
   "execution_count": null,
   "metadata": {},
   "outputs": [],
   "source": []
  }
 ],
 "metadata": {
  "kernelspec": {
   "display_name": "Python 3",
   "language": "python",
   "name": "python3"
  },
  "language_info": {
   "codemirror_mode": {
    "name": "ipython",
    "version": 3
   },
   "file_extension": ".py",
   "mimetype": "text/x-python",
   "name": "python",
   "nbconvert_exporter": "python",
   "pygments_lexer": "ipython3",
   "version": "3.7.4"
  }
 },
 "nbformat": 4,
 "nbformat_minor": 4
}
