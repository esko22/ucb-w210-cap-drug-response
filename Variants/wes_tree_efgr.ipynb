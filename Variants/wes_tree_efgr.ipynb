{
 "cells": [
  {
   "cell_type": "code",
   "execution_count": 1,
   "metadata": {},
   "outputs": [],
   "source": [
    "import numpy as np\n",
    "import pandas as pd\n",
    "import seaborn as sns\n",
    "import matplotlib.pyplot as plt\n",
    "\n",
    "from sklearn.model_selection import train_test_split\n",
    "from sklearn.ensemble import RandomForestRegressor"
   ]
  },
  {
   "cell_type": "code",
   "execution_count": 2,
   "metadata": {},
   "outputs": [],
   "source": [
    "celllines_wes_efgr = pd.read_csv(\"../data/wes_ic50_Erlotinib.tsv\",sep = \"\\t\", index_col=\"COSMIC_ID\")\n",
    "\n",
    "# split data\n",
    "train_data_set, dev_data_set, train_labels, dev_labels = train_test_split(celllines_wes_efgr, celllines_wes_efgr['LN_IC50'], test_size=0.33, random_state=0)\n"
   ]
  },
  {
   "cell_type": "code",
   "execution_count": 8,
   "metadata": {},
   "outputs": [],
   "source": [
    "train_data_set = train_data_set.drop('LN_IC50', axis=1)\n",
    "dev_data_set = dev_data_set.drop('LN_IC50', axis=1)"
   ]
  },
  {
   "cell_type": "code",
   "execution_count": 9,
   "metadata": {},
   "outputs": [
    {
     "data": {
      "text/plain": [
       "RandomForestRegressor(bootstrap=True, criterion='mse', max_depth=20,\n",
       "           max_features='auto', max_leaf_nodes=None,\n",
       "           min_impurity_decrease=0.0, min_impurity_split=None,\n",
       "           min_samples_leaf=1, min_samples_split=2,\n",
       "           min_weight_fraction_leaf=0.0, n_estimators=100, n_jobs=None,\n",
       "           oob_score=False, random_state=0, verbose=0, warm_start=False)"
      ]
     },
     "execution_count": 9,
     "metadata": {},
     "output_type": "execute_result"
    }
   ],
   "source": [
    "regr = RandomForestRegressor(max_depth=20, random_state=0, n_estimators=100)\n",
    "regr.fit(train_data_set, train_labels)"
   ]
  },
  {
   "cell_type": "code",
   "execution_count": 10,
   "metadata": {},
   "outputs": [
    {
     "name": "stdout",
     "output_type": "stream",
     "text": [
      "[0.00778297 0.         0.         ... 0.         0.         0.        ]\n"
     ]
    }
   ],
   "source": [
    "print(regr.feature_importances_)"
   ]
  },
  {
   "cell_type": "code",
   "execution_count": 11,
   "metadata": {},
   "outputs": [],
   "source": [
    "pred = regr.predict(dev_data_set)"
   ]
  },
  {
   "cell_type": "code",
   "execution_count": 8,
   "metadata": {},
   "outputs": [
    {
     "name": "stdout",
     "output_type": "stream",
     "text": [
      "[ 2.49879381  2.52930409  2.40586345  1.42165075  3.45666201  3.45666201\n",
      "  0.93954498  2.49879381  2.49879381  2.49879381  2.49879381  3.45666201\n",
      "  0.95766854  2.68857434  3.45666201  3.45666201  2.49879381  3.45666201\n",
      "  2.49879381  2.29575606  2.49879381  2.49879381  2.25616353  2.49879381\n",
      "  2.49879381  2.49879381  1.75993051  2.27008816  2.49879381  2.53862785\n",
      "  0.77359558  0.93954498  2.0273553   0.9028792   2.40586345  2.40586345\n",
      "  2.49879381  1.99749846  3.45666201  3.45666201  3.45666201  2.96830016\n",
      "  2.44710561  1.6480081   0.95766854  2.49879381  0.42336172  2.16393689\n",
      "  3.45666201  2.49879381  2.96830016  3.45666201  0.33059374  3.02568955\n",
      "  0.93954498  2.49879381  0.33059374  2.49879381  3.45666201  3.45666201\n",
      "  3.45666201  2.49879381  0.95766854  2.49879381  2.48772786  3.45666201\n",
      "  2.49879381  3.45666201  3.45666201  2.49879381  2.49879381  1.42165075\n",
      "  3.45666201  2.49879381  2.49879381  3.3714539   0.93954498  3.45666201\n",
      "  3.45666201  2.24013514  3.45666201  2.49879381  1.16210048  2.25616353\n",
      "  3.44703622  3.16738084  2.49879381  2.49879381  2.49879381  0.93954498\n",
      "  3.45666201  2.49879381  3.45666201 -1.45399719  2.49879381  3.45666201\n",
      "  3.45666201  3.45666201  2.49879381  3.45666201  3.45666201  1.42165075\n",
      "  2.48772786  2.25616353  2.49879381  0.9028792   2.52930409  3.45666201\n",
      "  2.49879381  3.45666201  2.49879381  0.95766854  3.45666201  2.49879381\n",
      "  3.45666201  2.49879381  2.53862785  3.45666201  2.49879381  3.45666201\n",
      "  3.45666201  1.06061498  3.45666201]\n"
     ]
    }
   ],
   "source": [
    "print(pred)"
   ]
  },
  {
   "cell_type": "code",
   "execution_count": 12,
   "metadata": {},
   "outputs": [
    {
     "name": "stdout",
     "output_type": "stream",
     "text": [
      "COSMIC_ID\n",
      "908159     0.287704\n",
      "688015    -0.156401\n",
      "1331040    0.776131\n",
      "688013     1.270555\n",
      "1330995   -1.005985\n",
      "949154    -1.274244\n",
      "930082     0.681028\n",
      "949173     0.099090\n",
      "907791     0.281968\n",
      "909249    -0.114316\n",
      "1327771    0.202022\n",
      "909712    -0.941431\n",
      "1330987    1.030455\n",
      "906765    -0.043311\n",
      "1303897   -0.532534\n",
      "907275    -0.725366\n",
      "905984     0.039524\n",
      "910911    -1.146328\n",
      "906872    -0.013598\n",
      "909742     1.083821\n",
      "906834     0.246582\n",
      "907067     0.666276\n",
      "907044     1.049601\n",
      "909260    -0.280947\n",
      "949153     0.352523\n",
      "910688     0.188817\n",
      "907043     0.087016\n",
      "753595     0.993453\n",
      "688026     0.438543\n",
      "907280    -0.892502\n",
      "             ...   \n",
      "906849     5.049910\n",
      "687562    -0.123531\n",
      "908451    -0.579613\n",
      "910691    -1.563406\n",
      "1331025   -2.370404\n",
      "909785    -1.223001\n",
      "949174    -0.963926\n",
      "684055    -0.619175\n",
      "1327774    1.302900\n",
      "1330933    0.689936\n",
      "910692     0.764167\n",
      "907050    -0.111550\n",
      "1330947    1.495431\n",
      "907311    -0.040644\n",
      "687997    -0.781356\n",
      "908142    -0.020372\n",
      "949170    -0.963086\n",
      "910905    -0.208946\n",
      "753622     0.870159\n",
      "753597    -2.175540\n",
      "1330983    0.019811\n",
      "688007    -0.962503\n",
      "1330935    0.016915\n",
      "908136    -1.644480\n",
      "905971    -2.747054\n",
      "906831    -0.339370\n",
      "907063    -1.486443\n",
      "905978    -1.047156\n",
      "949165     1.372912\n",
      "687600    -1.162038\n",
      "Name: LN_IC50, Length: 123, dtype: float64\n"
     ]
    }
   ],
   "source": [
    "print(pred- dev_labels)"
   ]
  },
  {
   "cell_type": "code",
   "execution_count": null,
   "metadata": {},
   "outputs": [],
   "source": []
  }
 ],
 "metadata": {
  "kernelspec": {
   "display_name": "Python 3",
   "language": "python",
   "name": "python3"
  },
  "language_info": {
   "codemirror_mode": {
    "name": "ipython",
    "version": 3
   },
   "file_extension": ".py",
   "mimetype": "text/x-python",
   "name": "python",
   "nbconvert_exporter": "python",
   "pygments_lexer": "ipython3",
   "version": "3.7.1"
  }
 },
 "nbformat": 4,
 "nbformat_minor": 2
}
